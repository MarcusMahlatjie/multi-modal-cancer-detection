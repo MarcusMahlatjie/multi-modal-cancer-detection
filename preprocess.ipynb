{
 "cells": [
  {
   "cell_type": "markdown",
   "id": "ba89c0e2",
   "metadata": {
    "papermill": {
     "duration": 0.004128,
     "end_time": "2025-07-23T08:56:59.733795",
     "exception": false,
     "start_time": "2025-07-23T08:56:59.729667",
     "status": "completed"
    },
    "tags": []
   },
   "source": [
    "# 02 · Pre-process LUNA16 → 64³ Nodule Patches  \n",
    "**Purpose** Convert raw LUNA16 CT volumes + physician annotations into\n",
    "GPU-friendly 64×64×64 voxel cubes, ready for 3-D CNN training.\n",
    "\n",
    "## Workflow\n",
    "1. **Mount dataset** – Kaggle auto-mounts `luna16` under `/kaggle/input/…`.\n",
    "2. **Sanity checks** – count subsets, scans, nodules; inspect HU range.\n",
    "3. **Helper funcs**  \n",
    "   * `resample_sitk` → 1 mm³ isotropic voxels  \n",
    "   * `hu_window` → clip HU to [-1000 , 400] & scale to [0, 1]  \n",
    "   * `extract_cube` → padding-safe 64³ extraction\n",
    "4. **Scan lookup** – recursively gather real CT `.mhd` files, ignoring lung-mask `_seg.mhd`, build `ct_paths{SeriesUID:Path}`.\n",
    "5. **Main loop** – for each annotated nodule  \n",
    "   * load & resample scan  \n",
    "   * convert world-coords → voxel-coords  \n",
    "   * cut 64³ patch and save as `.npy`  \n",
    "   * log metadata row\n",
    "6. **Outputs**  \n",
    "   * `patches_64mm/` – 1 186 patches (≈ 1 MB each)  \n",
    "   * `patch_index.csv` – filename ↔ SeriesUID ↔ nodule diameter & coords\n",
    "7. **Next notebooks**  \n",
    "   * `03_synthetic_profiles.ipynb` – generate tabular risk factors  \n",
    "   * `04_cnn_baseline.ipynb` – train 3-D ResNet on these patches\n"
   ]
  },
  {
   "cell_type": "code",
   "execution_count": 1,
   "id": "f16f2b1f",
   "metadata": {
    "_cell_guid": "b1076dfc-b9ad-4769-8c92-a6c4dae69d19",
    "_uuid": "8f2839f25d086af736a60e9eeb907d3b93b6e0e5",
    "execution": {
     "iopub.execute_input": "2025-07-23T08:56:59.742823Z",
     "iopub.status.busy": "2025-07-23T08:56:59.742416Z",
     "iopub.status.idle": "2025-07-23T08:57:02.217414Z",
     "shell.execute_reply": "2025-07-23T08:57:02.216493Z"
    },
    "papermill": {
     "duration": 2.481319,
     "end_time": "2025-07-23T08:57:02.219209",
     "exception": false,
     "start_time": "2025-07-23T08:56:59.737890",
     "status": "completed"
    },
    "tags": []
   },
   "outputs": [],
   "source": [
    "from pathlib import Path\n",
    "import numpy as np, pandas as pd, SimpleITK as sitk\n",
    "from tqdm import tqdm\n",
    "\n",
    "RAW_DIR   = Path(\"/kaggle/input/luna16\")          # read-only\n",
    "WORK_DIR  = Path(\"/kaggle/working\")               # write-able\n",
    "PATCH_DIR = WORK_DIR / \"patches_64mm\"\n",
    "PATCH_DIR.mkdir(exist_ok=True)"
   ]
  },
  {
   "cell_type": "markdown",
   "id": "ae00e447",
   "metadata": {
    "papermill": {
     "duration": 0.002915,
     "end_time": "2025-07-23T08:57:02.226268",
     "exception": false,
     "start_time": "2025-07-23T08:57:02.223353",
     "status": "completed"
    },
    "tags": []
   },
   "source": [
    "### resample_sitk()\n",
    "Radiology CTs have non-isotropic voxels (e.g., 0.7 mm × 0.7 mm in-plane but 2.5 mm slice thickness). A 3-D CNN works best when voxels are cubes, so we resample:"
   ]
  },
  {
   "cell_type": "code",
   "execution_count": 2,
   "id": "9d5ed3ec",
   "metadata": {
    "execution": {
     "iopub.execute_input": "2025-07-23T08:57:02.237568Z",
     "iopub.status.busy": "2025-07-23T08:57:02.236685Z",
     "iopub.status.idle": "2025-07-23T08:57:02.246266Z",
     "shell.execute_reply": "2025-07-23T08:57:02.245121Z"
    },
    "papermill": {
     "duration": 0.018159,
     "end_time": "2025-07-23T08:57:02.248311",
     "exception": false,
     "start_time": "2025-07-23T08:57:02.230152",
     "status": "completed"
    },
    "tags": []
   },
   "outputs": [],
   "source": [
    "# Resample to 1 mm³ isotropic\n",
    "def resample_sitk(image, new_spacing=(1.0, 1.0, 1.0)):\n",
    "    old_spacing = np.array(image.GetSpacing()[::-1])   # z,y,x\n",
    "    old_size    = np.array(image.GetSize()[::-1])\n",
    "    new_size    = (old_spacing * old_size / new_spacing).round().astype(int)\n",
    "    resample = sitk.ResampleImageFilter()\n",
    "    resample.SetInterpolator(sitk.sitkLinear)\n",
    "    resample.SetOutputSpacing(tuple(new_spacing[::-1]))  # x,y,z order\n",
    "    resample.SetSize([int(s) for s in new_size[::-1]])\n",
    "    resample.SetOutputDirection(image.GetDirection())\n",
    "    resample.SetOutputOrigin(image.GetOrigin())\n",
    "    return resample.Execute(image)\n"
   ]
  },
  {
   "cell_type": "markdown",
   "id": "1aae5246",
   "metadata": {
    "papermill": {
     "duration": 0.004228,
     "end_time": "2025-07-23T08:57:02.256377",
     "exception": false,
     "start_time": "2025-07-23T08:57:02.252149",
     "status": "completed"
    },
    "tags": []
   },
   "source": [
    "### hu_window()\n",
    "CT values are in Hounsfield Units (HU): air ≈ −1000, lung parenchyma ≈ −800…−400, soft tissue ≈ 0…100, bone 300–3000. We clamp to [−1000, +400] then min-max scale to [0, 1]. Anything denser than soft tissue isn’t informative for nodule parenchyma, and clipping stabilises training."
   ]
  },
  {
   "cell_type": "code",
   "execution_count": 3,
   "id": "e5dea236",
   "metadata": {
    "execution": {
     "iopub.execute_input": "2025-07-23T08:57:02.267328Z",
     "iopub.status.busy": "2025-07-23T08:57:02.266881Z",
     "iopub.status.idle": "2025-07-23T08:57:02.272704Z",
     "shell.execute_reply": "2025-07-23T08:57:02.271736Z"
    },
    "papermill": {
     "duration": 0.014647,
     "end_time": "2025-07-23T08:57:02.274686",
     "exception": false,
     "start_time": "2025-07-23T08:57:02.260039",
     "status": "completed"
    },
    "tags": []
   },
   "outputs": [],
   "source": [
    "# HU window & clip to [-1000, 400], normalise to [0,1]\n",
    "def hu_window(img_arr, hu_min=-1000, hu_max=400):\n",
    "    img_arr = np.clip(img_arr, hu_min, hu_max)\n",
    "    return (img_arr - hu_min) / (hu_max - hu_min)\n"
   ]
  },
  {
   "cell_type": "markdown",
   "id": "3ede35bf",
   "metadata": {
    "papermill": {
     "duration": 0.002963,
     "end_time": "2025-07-23T08:57:02.281117",
     "exception": false,
     "start_time": "2025-07-23T08:57:02.278154",
     "status": "completed"
    },
    "tags": []
   },
   "source": [
    "### extract_cube()\n",
    "Given voxel indices (z,y,x) for the nodule centre: If the nodule is near a lung border, lo can go <0 or hi beyond the scan—so we np.pad with zeros."
   ]
  },
  {
   "cell_type": "code",
   "execution_count": 4,
   "id": "659f5042",
   "metadata": {
    "execution": {
     "iopub.execute_input": "2025-07-23T08:57:02.288401Z",
     "iopub.status.busy": "2025-07-23T08:57:02.288095Z",
     "iopub.status.idle": "2025-07-23T08:57:02.296298Z",
     "shell.execute_reply": "2025-07-23T08:57:02.295090Z"
    },
    "papermill": {
     "duration": 0.01405,
     "end_time": "2025-07-23T08:57:02.298154",
     "exception": false,
     "start_time": "2025-07-23T08:57:02.284104",
     "status": "completed"
    },
    "tags": []
   },
   "outputs": [],
   "source": [
    "# Extract a centered 64³ cube, pad if near edge\n",
    "def extract_cube(vol, center, size=64):\n",
    "    z,y,x = center\n",
    "    r = size // 2\n",
    "    z1,z2 = z-r, z+r\n",
    "    y1,y2 = y-r, y+r\n",
    "    x1,x2 = x-r, x+r\n",
    "    pad = [[0,0],[0,0],[0,0]]            # for np.pad\n",
    "    for idx,(lo,hi,dim) in enumerate([(z1,z2,vol.shape[0]),\n",
    "                                      (y1,y2,vol.shape[1]),\n",
    "                                      (x1,x2,vol.shape[2])]):\n",
    "        if lo < 0:\n",
    "            pad[idx][0] = -lo\n",
    "            lo = 0\n",
    "        if hi > dim:\n",
    "            pad[idx][1] = hi - dim\n",
    "    cube = vol[max(z1,0):min(z2,vol.shape[0]),\n",
    "               max(y1,0):min(y2,vol.shape[1]),\n",
    "               max(x1,0):min(x2,vol.shape[2])]\n",
    "    if any(pad_i>0 for pair in pad for pad_i in pair):\n",
    "        cube = np.pad(cube, pad, mode=\"constant\", constant_values=0)\n",
    "    return cube\n"
   ]
  },
  {
   "cell_type": "code",
   "execution_count": 5,
   "id": "ec1b62fe",
   "metadata": {
    "execution": {
     "iopub.execute_input": "2025-07-23T08:57:02.309087Z",
     "iopub.status.busy": "2025-07-23T08:57:02.308557Z",
     "iopub.status.idle": "2025-07-23T08:57:07.865267Z",
     "shell.execute_reply": "2025-07-23T08:57:07.864100Z"
    },
    "papermill": {
     "duration": 5.564216,
     "end_time": "2025-07-23T08:57:07.867017",
     "exception": false,
     "start_time": "2025-07-23T08:57:02.302801",
     "status": "completed"
    },
    "tags": []
   },
   "outputs": [
    {
     "name": "stdout",
     "output_type": "stream",
     "text": [
      "Mapped 601 scans → path\n",
      "Missing scans: 0\n"
     ]
    }
   ],
   "source": [
    "# ── rebuild the scan-lookup table ─────────────────────────────\n",
    "from pathlib import Path\n",
    "import pandas as pd\n",
    "\n",
    "RAW_DIR = Path(\"/kaggle/input/luna16\")        # adjust if you renamed it\n",
    "ann      = pd.read_csv(RAW_DIR / \"annotations.csv\")\n",
    "ann_sids = set(ann.seriesuid)                 # 601 scans with nodules\n",
    "\n",
    "all_mhd  = [p for p in RAW_DIR.rglob(\"*.mhd\")   # recurse any depth\n",
    "            if \"seg\" not in p.name.lower()]     # skip lung-mask files\n",
    "\n",
    "ct_paths = {p.stem: p for p in all_mhd if p.stem in ann_sids}\n",
    "\n",
    "print(\"Mapped\", len(ct_paths), \"scans → path\")  # expect ≈ 601\n",
    "missing = ann_sids - ct_paths.keys()\n",
    "print(\"Missing scans:\", len(missing))           # should be 0\n"
   ]
  },
  {
   "cell_type": "markdown",
   "id": "9c2a72d4",
   "metadata": {
    "papermill": {
     "duration": 0.002814,
     "end_time": "2025-07-23T08:57:07.873514",
     "exception": false,
     "start_time": "2025-07-23T08:57:07.870700",
     "status": "completed"
    },
    "tags": []
   },
   "source": [
    "### Main extraction loop\n",
    "- Maps the unique SeriesInstanceUID (seriesuid) to the correct .mhd path.\n",
    "- resample_sitk converts anisotropic CT slices to 1 mm³ cubes; hu_window clamps HU and scales to [0,1] for stable training.\n",
    "- spacing & origin let us transform physician-annotated world-space millimetres to voxel indices after resampling.\n",
    "- Each CT can contain multiple nodules → we iterate over its sub-DataFrame df.\n",
    "- Each 64³ float32 patch (~1 MB) is written as an .npy file named <SeriesUID>_n<i>.npy.\n",
    "- Parallel “index” row stored in records so we can trace every patch back to its metadata without parsing filenames later.\n",
    "- The final patch_index.csv plus the patches_64mm/ folder form an easy-to-mount, training-ready dataset."
   ]
  },
  {
   "cell_type": "code",
   "execution_count": 6,
   "id": "c60b22c8",
   "metadata": {
    "execution": {
     "iopub.execute_input": "2025-07-23T08:57:07.881693Z",
     "iopub.status.busy": "2025-07-23T08:57:07.880757Z",
     "iopub.status.idle": "2025-07-23T09:09:40.118420Z",
     "shell.execute_reply": "2025-07-23T09:09:40.111521Z"
    },
    "papermill": {
     "duration": 752.251564,
     "end_time": "2025-07-23T09:09:40.128127",
     "exception": false,
     "start_time": "2025-07-23T08:57:07.876563",
     "status": "completed"
    },
    "tags": []
   },
   "outputs": [
    {
     "name": "stderr",
     "output_type": "stream",
     "text": [
      "scans: 100%|██████████| 601/601 [12:32<00:00,  1.25s/it]"
     ]
    },
    {
     "name": "stdout",
     "output_type": "stream",
     "text": [
      "Saved 1186 patches to /kaggle/working/patches_64mm\n"
     ]
    },
    {
     "name": "stderr",
     "output_type": "stream",
     "text": [
      "\n"
     ]
    }
   ],
   "source": [
    "records = []\n",
    "\n",
    "for series, df in tqdm(ann.groupby(\"seriesuid\"), desc=\"scans\", total=len(ann_sids)):\n",
    "    path = ct_paths.get(series)\n",
    "    if path is None:\n",
    "        continue\n",
    "\n",
    "    img_iso  = resample_sitk(sitk.ReadImage(str(path)))\n",
    "    vol_norm = hu_window(sitk.GetArrayFromImage(img_iso).astype(np.int16))\n",
    "\n",
    "    spacing  = img_iso.GetSpacing()[::-1]\n",
    "    origin   = img_iso.GetOrigin()[::-1]\n",
    "\n",
    "    for idx, row in df.iterrows():\n",
    "        center = np.round((np.array([row.coordZ, row.coordY, row.coordX]) - origin) / spacing).astype(int)\n",
    "        patch  = extract_cube(vol_norm, center, 64).astype(np.float32)\n",
    "\n",
    "        fname  = f\"{series}_n{idx}.npy\"\n",
    "        np.save(PATCH_DIR / fname, patch)\n",
    "\n",
    "        records.append({\"patch_file\": fname,\n",
    "                        \"seriesuid\" : series,\n",
    "                        \"diam_mm\"   : row.diameter_mm,\n",
    "                        \"center_x\"  : row.coordX,\n",
    "                        \"center_y\"  : row.coordY,\n",
    "                        \"center_z\"  : row.coordZ})\n",
    "\n",
    "patch_df = pd.DataFrame(records)\n",
    "patch_df.to_csv(WORK_DIR / \"patch_index.csv\", index=False)\n",
    "print(f\"Saved {len(patch_df)} patches to {PATCH_DIR}\")\n"
   ]
  },
  {
   "cell_type": "code",
   "execution_count": 7,
   "id": "991ff497",
   "metadata": {
    "execution": {
     "iopub.execute_input": "2025-07-23T09:09:40.288374Z",
     "iopub.status.busy": "2025-07-23T09:09:40.286969Z",
     "iopub.status.idle": "2025-07-23T09:09:40.710605Z",
     "shell.execute_reply": "2025-07-23T09:09:40.709457Z"
    },
    "papermill": {
     "duration": 0.494463,
     "end_time": "2025-07-23T09:09:40.712660",
     "exception": false,
     "start_time": "2025-07-23T09:09:40.218197",
     "status": "completed"
    },
    "tags": []
   },
   "outputs": [
    {
     "data": {
      "text/plain": [
       "(-0.5, 63.5, 63.5, -0.5)"
      ]
     },
     "execution_count": 7,
     "metadata": {},
     "output_type": "execute_result"
    },
    {
     "data": {
      "image/png": "[encoded data removed]",
      "text/plain": [
       "<Figure size 640x480 with 1 Axes>"
      ]
     },
     "metadata": {},
     "output_type": "display_data"
    }
   ],
   "source": [
    "import matplotlib.pyplot as plt\n",
    "cube = np.load(next(PATCH_DIR.glob(\"*.npy\")))\n",
    "mid = cube.shape[0]//2\n",
    "plt.imshow(cube[mid], cmap=\"gray\")\n",
    "plt.title(\"central slice of 64³ patch\"); plt.axis(\"off\")\n"
   ]
  },
  {
   "cell_type": "markdown",
   "id": "e469097c",
   "metadata": {
    "papermill": {
     "duration": 0.042706,
     "end_time": "2025-07-23T09:09:40.815122",
     "exception": false,
     "start_time": "2025-07-23T09:09:40.772416",
     "status": "completed"
    },
    "tags": []
   },
   "source": []
  },
  {
   "cell_type": "code",
   "execution_count": 8,
   "id": "dfe45c9e",
   "metadata": {
    "execution": {
     "iopub.execute_input": "2025-07-23T09:09:40.902952Z",
     "iopub.status.busy": "2025-07-23T09:09:40.902567Z",
     "iopub.status.idle": "2025-07-23T09:09:42.562699Z",
     "shell.execute_reply": "2025-07-23T09:09:42.561269Z"
    },
    "papermill": {
     "duration": 1.706574,
     "end_time": "2025-07-23T09:09:42.564531",
     "exception": false,
     "start_time": "2025-07-23T09:09:40.857957",
     "status": "completed"
    },
    "tags": []
   },
   "outputs": [
    {
     "name": "stdout",
     "output_type": "stream",
     "text": [
      "Done writing synthetic_profiles.csv with 601 rows\n"
     ]
    }
   ],
   "source": [
    "# Cell 1 ── imports & seed\n",
    "import numpy as np, pandas as pd\n",
    "from pathlib import Path\n",
    "rng = np.random.default_rng(42)     # reproducible\n",
    "\n",
    "WORK_DIR = Path(\"/kaggle/working\")\n",
    "PATCH_IDX = WORK_DIR / \"patch_index.csv\"   # created in 02_preprocess\n",
    "patch_df = pd.read_csv(PATCH_IDX)\n",
    "uids = patch_df[\"seriesuid\"].unique()\n",
    "\n",
    "# Cell 2 ── define helper samplers\n",
    "def truncnorm(mean, sd, low, high, n):\n",
    "    \"\"\"draw from N(mean,sd) truncated to [low,high]\"\"\"\n",
    "    a = (low - mean) / sd\n",
    "    b = (high - mean) / sd\n",
    "    from scipy.stats import truncnorm as tn\n",
    "    return tn.rvs(a, b, loc=mean, scale=sd, size=n, random_state=rng)\n",
    "\n",
    "# Cell 3 ── sample each column\n",
    "n = len(uids)\n",
    "age  = truncnorm(65, 10, 40, 85, n).round().astype(int)\n",
    "\n",
    "sex  = rng.choice([\"M\", \"F\"], p=[0.55, 0.45], size=n)\n",
    "\n",
    "smoke = rng.choice([\"current\", \"former\", \"never\"],\n",
    "                   p=[0.45, 0.40, 0.15], size=n)\n",
    "\n",
    "pack_years = np.where(\n",
    "    smoke == \"never\",\n",
    "    0,\n",
    "    rng.gamma(shape=10, scale=3, size=n).round(1)      # mean ≈30 PY\n",
    ")\n",
    "\n",
    "yrs_since_quit = np.where(\n",
    "    smoke == \"former\",\n",
    "    rng.integers(1, 31, size=n),     # 1-30 yrs\n",
    "    0\n",
    ")\n",
    "\n",
    "family_hist = rng.choice([0, 1], p=[0.9, 0.1], size=n)\n",
    "copd       = rng.choice([0, 1], p=[0.8, 0.2], size=n)\n",
    "\n",
    "# Cell 4 ── assemble DataFrame\n",
    "profiles = pd.DataFrame({\n",
    "    \"seriesuid\"      : uids,\n",
    "    \"age\"            : age,\n",
    "    \"sex\"            : sex,\n",
    "    \"smoking_status\" : smoke,\n",
    "    \"pack_years\"     : pack_years,\n",
    "    \"years_since_quit\": yrs_since_quit,\n",
    "    \"family_history\" : family_hist,\n",
    "    \"copd_dx\"        : copd\n",
    "})\n",
    "\n",
    "profiles.to_csv(WORK_DIR / \"synthetic_profiles.csv\", index=False)\n",
    "print(\"Done writing synthetic_profiles.csv with\", len(profiles), \"rows\")\n"
   ]
  },
  {
   "cell_type": "code",
   "execution_count": null,
   "id": "0a87ec1e",
   "metadata": {
    "papermill": {
     "duration": 0.031056,
     "end_time": "2025-07-23T09:09:42.627604",
     "exception": false,
     "start_time": "2025-07-23T09:09:42.596548",
     "status": "completed"
    },
    "tags": []
   },
   "outputs": [],
   "source": []
  }
 ],
 "metadata": {
  "kaggle": {
   "accelerator": "none",
   "dataSources": [
    {
     "datasetId": 982666,
     "sourceId": 1659908,
     "sourceType": "datasetVersion"
    }
   ],
   "dockerImageVersionId": 31089,
   "isGpuEnabled": false,
   "isInternetEnabled": true,
   "language": "python",
   "sourceType": "notebook"
  },
  "kernelspec": {
   "display_name": "Python 3",
   "language": "python",
   "name": "python3"
  },
  "language_info": {
   "codemirror_mode": {
    "name": "ipython",
    "version": 3
   },
   "file_extension": ".py",
   "mimetype": "text/x-python",
   "name": "python",
   "nbconvert_exporter": "python",
   "pygments_lexer": "ipython3",
   "version": "3.11.13"
  },
  "papermill": {
   "default_parameters": {},
   "duration": 768.58726,
   "end_time": "2025-07-23T09:09:43.592973",
   "environment_variables": {},
   "exception": null,
   "input_path": "__notebook__.ipynb",
   "output_path": "__notebook__.ipynb",
   "parameters": {},
   "start_time": "2025-07-23T08:56:55.005713",
   "version": "2.6.0"
  }
 },
 "nbformat": 4,
 "nbformat_minor": 5
}
