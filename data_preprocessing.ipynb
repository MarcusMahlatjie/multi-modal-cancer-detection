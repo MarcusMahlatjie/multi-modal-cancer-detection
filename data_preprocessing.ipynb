{
 "cells": [
  {
   "cell_type": "code",
   "execution_count": 1,
   "id": "0d4e7386",
   "metadata": {
    "execution": {
     "iopub.execute_input": "2025-07-11T07:22:24.509673Z",
     "iopub.status.busy": "2025-07-11T07:22:24.509382Z",
     "iopub.status.idle": "2025-07-11T07:25:46.886446Z",
     "shell.execute_reply": "2025-07-11T07:25:46.885174Z"
    },
    "papermill": {
     "duration": 202.382366,
     "end_time": "2025-07-11T07:25:46.888671",
     "exception": false,
     "start_time": "2025-07-11T07:22:24.506305",
     "status": "completed"
    },
    "tags": []
   },
   "outputs": [
    {
     "name": "stdout",
     "output_type": "stream",
     "text": [
      "\u001b[33mWARNING: Retrying (Retry(total=4, connect=None, read=None, redirect=None, status=None)) after connection broken by 'NewConnectionError('<pip._vendor.urllib3.connection.HTTPSConnection object at 0x780922d13bd0>: Failed to establish a new connection: [Errno -3] Temporary failure in name resolution')': /simple/simpleitk/\u001b[0m\u001b[33m\r\n",
      "\u001b[0m\u001b[33mWARNING: Retrying (Retry(total=3, connect=None, read=None, redirect=None, status=None)) after connection broken by 'NewConnectionError('<pip._vendor.urllib3.connection.HTTPSConnection object at 0x780922a6e710>: Failed to establish a new connection: [Errno -3] Temporary failure in name resolution')': /simple/simpleitk/\u001b[0m\u001b[33m\r\n",
      "\u001b[0m\u001b[33mWARNING: Retrying (Retry(total=2, connect=None, read=None, redirect=None, status=None)) after connection broken by 'NewConnectionError('<pip._vendor.urllib3.connection.HTTPSConnection object at 0x780922ad61d0>: Failed to establish a new connection: [Errno -3] Temporary failure in name resolution')': /simple/simpleitk/\u001b[0m\u001b[33m\r\n",
      "\u001b[0m\u001b[33mWARNING: Retrying (Retry(total=1, connect=None, read=None, redirect=None, status=None)) after connection broken by 'NewConnectionError('<pip._vendor.urllib3.connection.HTTPSConnection object at 0x780922ad7f50>: Failed to establish a new connection: [Errno -3] Temporary failure in name resolution')': /simple/simpleitk/\u001b[0m\u001b[33m\r\n",
      "\u001b[0m\u001b[33mWARNING: Retrying (Retry(total=0, connect=None, read=None, redirect=None, status=None)) after connection broken by 'NewConnectionError('<pip._vendor.urllib3.connection.HTTPSConnection object at 0x780922af2dd0>: Failed to establish a new connection: [Errno -3] Temporary failure in name resolution')': /simple/simpleitk/\u001b[0m\u001b[33m\r\n",
      "\u001b[0m\u001b[31mERROR: Could not find a version that satisfies the requirement SimpleITK==2.3.1 (from versions: none)\u001b[0m\u001b[31m\r\n",
      "\u001b[0m\u001b[31mERROR: No matching distribution found for SimpleITK==2.3.1\u001b[0m\u001b[31m\r\n",
      "\u001b[0m"
     ]
    }
   ],
   "source": [
    "!pip install SimpleITK==2.3.1 pandas"
   ]
  },
  {
   "cell_type": "code",
   "execution_count": 2,
   "id": "fbd65efa",
   "metadata": {
    "execution": {
     "iopub.execute_input": "2025-07-11T07:25:46.894118Z",
     "iopub.status.busy": "2025-07-11T07:25:46.893762Z",
     "iopub.status.idle": "2025-07-11T07:25:53.198953Z",
     "shell.execute_reply": "2025-07-11T07:25:53.197827Z"
    },
    "papermill": {
     "duration": 6.309624,
     "end_time": "2025-07-11T07:25:53.200540",
     "exception": false,
     "start_time": "2025-07-11T07:25:46.890916",
     "status": "completed"
    },
    "tags": []
   },
   "outputs": [
    {
     "name": "stdout",
     "output_type": "stream",
     "text": [
      "Subsets       : 5\n",
      "CT volumes    : 1333\n",
      "Annotated nodules: 1186\n",
      "shape (194, 512, 512) HU-range (0, 5)\n"
     ]
    }
   ],
   "source": [
    "from pathlib import Path\n",
    "import pandas as pd, SimpleITK as sitk\n",
    "\n",
    "RAW_DIR = Path(\"/kaggle/input/luna16\")\n",
    "ann = pd.read_csv(RAW_DIR / \"annotations.csv\")\n",
    "\n",
    "mhd_files = sorted(RAW_DIR.rglob(\"*.mhd\"))\n",
    "print(f\"Subsets       : {len(list(RAW_DIR.glob('subset*')))}\")  # expect 8\n",
    "print(f\"CT volumes    : {len(mhd_files)}\")                     # expect 888\n",
    "print(f\"Annotated nodules: {len(ann)}\")                       # expect 1186\n",
    "\n",
    "# View one scan\n",
    "sample = mhd_files[0]\n",
    "img = sitk.ReadImage(str(sample))\n",
    "arr = sitk.GetArrayFromImage(img)            # z,y,x\n",
    "print(\"shape\", arr.shape,\n",
    "      \"HU-range\", (arr.min(), arr.max()))\n"
   ]
  },
  {
   "cell_type": "code",
   "execution_count": null,
   "id": "97506d3e",
   "metadata": {
    "papermill": {
     "duration": 0.001578,
     "end_time": "2025-07-11T07:25:53.204310",
     "exception": false,
     "start_time": "2025-07-11T07:25:53.202732",
     "status": "completed"
    },
    "tags": []
   },
   "outputs": [],
   "source": []
  }
 ],
 "metadata": {
  "kaggle": {
   "accelerator": "none",
   "dataSources": [
    {
     "datasetId": 982666,
     "sourceId": 1659908,
     "sourceType": "datasetVersion"
    }
   ],
   "dockerImageVersionId": 31089,
   "isGpuEnabled": false,
   "isInternetEnabled": false,
   "language": "python",
   "sourceType": "notebook"
  },
  "kernelspec": {
   "display_name": "Python 3",
   "language": "python",
   "name": "python3"
  },
  "language_info": {
   "codemirror_mode": {
    "name": "ipython",
    "version": 3
   },
   "file_extension": ".py",
   "mimetype": "text/x-python",
   "name": "python",
   "nbconvert_exporter": "python",
   "pygments_lexer": "ipython3",
   "version": "3.11.13"
  },
  "papermill": {
   "default_parameters": {},
   "duration": 213.985881,
   "end_time": "2025-07-11T07:25:53.827314",
   "environment_variables": {},
   "exception": null,
   "input_path": "__notebook__.ipynb",
   "output_path": "__notebook__.ipynb",
   "parameters": {},
   "start_time": "2025-07-11T07:22:19.841433",
   "version": "2.6.0"
  }
 },
 "nbformat": 4,
 "nbformat_minor": 5
}
